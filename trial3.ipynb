{
 "cells": [
  {
   "cell_type": "code",
   "execution_count": 2,
   "metadata": {},
   "outputs": [],
   "source": [
    "import pandas as pd\n",
    "import numpy as np"
   ]
  },
  {
   "cell_type": "code",
   "execution_count": 3,
   "metadata": {},
   "outputs": [],
   "source": [
    "df = pd.read_csv('Admission_Prediction.csv').dropna()"
   ]
  },
  {
   "cell_type": "code",
   "execution_count": 4,
   "metadata": {},
   "outputs": [],
   "source": [
    "x=df.drop([\"Serial No.\",\"Chance of Admit\"],axis = 1)\n",
    "y=df[\"Chance of Admit\"]"
   ]
  },
  {
   "cell_type": "code",
   "execution_count": 13,
   "metadata": {},
   "outputs": [],
   "source": [
    "from sklearn.model_selection import train_test_split\n",
    "x_train,x_test,y_train,y_test = train_test_split(x,y,test_size=.20, random_state=42)"
   ]
  },
  {
   "cell_type": "code",
   "execution_count": 14,
   "metadata": {},
   "outputs": [
    {
     "data": {
      "text/plain": [
       "SVR()"
      ]
     },
     "execution_count": 14,
     "metadata": {},
     "output_type": "execute_result"
    }
   ],
   "source": [
    "from sklearn.svm import SVR\n",
    "regressor = SVR(kernel = 'rbf')\n",
    "regressor.fit(x_train, y_train)"
   ]
  },
  {
   "cell_type": "code",
   "execution_count": 20,
   "metadata": {},
   "outputs": [],
   "source": [
    "y_pred = regressor.predict(x_test)"
   ]
  },
  {
   "cell_type": "code",
   "execution_count": 22,
   "metadata": {},
   "outputs": [],
   "source": [
    "cutoff = 0.7\n",
    "y_pred_classes = np.zeros_like(y_pred)\n",
    "y_pred_classes[y_pred > cutoff] = 1"
   ]
  },
  {
   "cell_type": "code",
   "execution_count": 23,
   "metadata": {},
   "outputs": [],
   "source": [
    "y_test_classes = np.zeros_like(y_pred)\n",
    "y_test_classes[y_test > cutoff] = 1"
   ]
  },
  {
   "cell_type": "code",
   "execution_count": 24,
   "metadata": {},
   "outputs": [],
   "source": [
    "from sklearn.metrics import confusion_matrix\n",
    "cm = confusion_matrix(y_test_classes, y_pred_classes)"
   ]
  },
  {
   "cell_type": "code",
   "execution_count": 27,
   "metadata": {},
   "outputs": [
    {
     "name": "stdout",
     "output_type": "stream",
     "text": [
      "0.8478260869565217\n",
      "[[37  0]\n",
      " [14 41]]\n"
     ]
    }
   ],
   "source": [
    "print(metrics.accuracy_score(y_test_classes,y_pred_classes))\n",
    "print(cm)"
   ]
  },
  {
   "cell_type": "code",
   "execution_count": 28,
   "metadata": {},
   "outputs": [],
   "source": [
    "TP=cm[0,0]\n",
    "TN=cm[1,1]\n",
    "FN=cm[0,1]\n",
    "FP=cm[1,0]"
   ]
  },
  {
   "cell_type": "code",
   "execution_count": 29,
   "metadata": {},
   "outputs": [],
   "source": [
    "sensitivity=TP/(TP+FN)\n",
    "specificity=TN/(TN+FP)\n",
    "precision=TP/(TP+FP)\n",
    "pred_val=TN/(TN+FN)\n",
    "accracy=(TP+FN)/(TP+TN+FP+FN)"
   ]
  },
  {
   "cell_type": "code",
   "execution_count": 31,
   "metadata": {},
   "outputs": [
    {
     "name": "stdout",
     "output_type": "stream",
     "text": [
      "SENSITIVITY : 1.000000\n",
      "SPECIFICITY : 0.745455\n",
      "PRECISION : 0.725490\n",
      "PREDICTE VALUE : 1.000000\n",
      "ACCURCY : 0.402174\n",
      "\n",
      "\n",
      "precision 0.7254901960784313\n",
      "PRECISION SCORE : 1.0\n",
      "RECALL SCORE : 0.7454545454545455\n",
      "F1 SCORE : 0.8541666666666666\n"
     ]
    }
   ],
   "source": [
    "print(\"SENSITIVITY : %f\"%(sensitivity))\n",
    "print(\"SPECIFICITY : %f\"%(specificity))\n",
    "print(\"PRECISION : %f\"%(precision))\n",
    "print(\"PREDICTE VALUE : %f\"%(pred_val))\n",
    "print(\"ACCURCY : %f\"%(accracy))\n",
    "print(\"\\n\\nprecision\",precision)\n",
    "print(\"PRECISION SCORE :\",metrics.precision_score(y_test_classes, y_pred_classes))\n",
    "print(\"RECALL SCORE :\", metrics.recall_score(y_test_classes, y_pred_classes))\n",
    "print(\"F1 SCORE :\",metrics.f1_score(y_test_classes, y_pred_classes))"
   ]
  },
  {
   "cell_type": "code",
   "execution_count": null,
   "metadata": {},
   "outputs": [],
   "source": []
  }
 ],
 "metadata": {
  "interpreter": {
   "hash": "20166154e2b7579bf071f1702df509bb9298b377a09c15af7bfb1a329d7696b3"
  },
  "kernelspec": {
   "display_name": "Python 3.9.7 64-bit ('base': conda)",
   "language": "python",
   "name": "python3"
  },
  "language_info": {
   "codemirror_mode": {
    "name": "ipython",
    "version": 3
   },
   "file_extension": ".py",
   "mimetype": "text/x-python",
   "name": "python",
   "nbconvert_exporter": "python",
   "pygments_lexer": "ipython3",
   "version": "3.9.7"
  },
  "orig_nbformat": 4
 },
 "nbformat": 4,
 "nbformat_minor": 2
}
